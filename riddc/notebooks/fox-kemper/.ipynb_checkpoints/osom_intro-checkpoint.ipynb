{
 "cells": [
  {
   "cell_type": "markdown",
   "metadata": {},
   "source": [
    "# Ocean State Ocean Model (OSOM)\n",
    "\n",
    "The Ocean State Ocean Model (OSOM) is an application of the Regional Ocean Modeling System spanning the Rhode Island waterways, including Narragansett Bay, Mt. Hope Bay, larger rivers, and the Block Island Shelf circulation from Long Island to Nantucket (latitudes 40.507°N to 42.174°N and longitudes -72.665°W to -69.985°W)."
   ]
  },
  {
   "cell_type": "markdown",
   "metadata": {},
   "source": [
    "## Current Version (beta0.1)\n",
    "\n",
    "Currently, the model is still being developed, the latest published version is `beta0.1`."
   ]
  },
  {
   "cell_type": "markdown",
   "metadata": {},
   "source": [
    "## Data\n",
    "\n",
    "Surface and bottom data has been published for water temperature and salinity on the Rhode Island Data Discovery Center's (RIDDC) [ERDDAP server](https://pricaimcit.services.brown.edu/erddap/index.html). The data is available in the model's coordinate system at all locations, with an additional file available to map the model's coordinates to latitude and longitude. Additionally, a dataset has been made available which sample's the model data at the coordinates (lat/long) for which historical buoy data is available.\n",
    "\n",
    "A subset of the data is available for exploration on RIDDC's [Narragansett Bay Data Explorer](https://data-explorer.riddc.brown.edu/datasets/osom-data)"
   ]
  },
  {
   "cell_type": "markdown",
   "metadata": {},
   "source": [
    "## Publications\n",
    "\n",
    "Sane A, Fox-Kemper B, Ullman D, Kincaid C, Rothstein L, Brown University Collaboration. Predictability of ROMS-Ocean State Ocean Model using Information Theory. InAPS Division of Fluid Dynamics Meeting Abstracts 2019 Nov (pp. G39-006). [link](https://ui.adsabs.harvard.edu/abs/2019APS..DFDG39006S/abstract)\n",
    "\n",
    "Sane A, Fox-Kemper B, Ullman D, Kincaid C, Rothstein L. Predictability of estuarine model using Information Theory: ROMS Ocean State Ocean Model. InEGU General Assembly Conference Abstracts 2020 May (p. 6489). [link](https://ui.adsabs.harvard.edu/abs/2020EGUGA..22.6489S/abstract)"
   ]
  }
 ],
 "metadata": {
  "kernelspec": {
   "display_name": "Python 3",
   "language": "python",
   "name": "python3"
  },
  "language_info": {
   "codemirror_mode": {
    "name": "ipython",
    "version": 3
   },
   "file_extension": ".py",
   "mimetype": "text/x-python",
   "name": "python",
   "nbconvert_exporter": "python",
   "pygments_lexer": "ipython3",
   "version": "3.7.1"
  }
 },
 "nbformat": 4,
 "nbformat_minor": 2
}
