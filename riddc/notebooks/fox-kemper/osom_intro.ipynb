{
 "cells": [
  {
   "cell_type": "markdown",
   "metadata": {},
   "source": [
    "## **Ocean State Ocean Model (OSOM)**\n",
    "\n",
    "Authors of this document: Benny Smith, Mary McGrath, and Baylor Fox-Kemper<br/>\n",
    "Developers of the OSOM: D. Ullman, A. Sane, B. Fox-Kemper, L. Rothstein, and C. Kincaid\n",
    "\n",
    "The Ocean State Ocean Model (OSOM) has been developed by URI and Brown Collaborators based on the Regional Ocean Modelling System ([ROMS](https://www.myroms.org)) with the goal of setting up a forecasting system for the circulation of Narragansett Bay and surrounding waters. It was developed as an expansion on previous studies using similar models (Bergondo, 2004; Bergondo & Kincaid, 2007; Liu et al., 2016; Wertman, 2018; Ullman, 2019; McManus et al., 2020).  Such a system would allow predictions regarding issues of societal concern, such as the conditions associated with blooms, hypoxia, and fish kills (Sane et al., submitted 2020a), sea level rise, pollutant transport and fate, and other changes. It could also enable the assessment of “the impact of different management and mitigation practices” (Sane et al.).\n",
    "\n",
    "![OSOMrivers](https://user-images.githubusercontent.com/69660053/107981702-9c1c3480-6f90-11eb-8424-9c58eaec78d0.png)\n",
    "\n",
    "Narragansett Bay,  the primary body of water modelled by OSOM, is a coastal plain estuary with an area of around 400 square km, 16 km wide and 32 km long, with an average depth of 8m (Sane et al. 2020a). It hosts a variety of organisms which are of ecological importance in the area in addition to being economically useful for the fishing industry.\n",
    "If you are looking to make comparisons between OSOM output and observational data, it may be helpful to note that OSOM only models a region within latitudes 40.507°N to 42.174°N and longitudes -72.665°W to -69.985°W. The OSOM region is divided into a 1000 ⨉ 1100 horizontal grid, with resolution varying “from ~50m towards the North to around 200m in the south of the modelled domain” (Sane et al., submitted 2020). The vertical resolution also changes, with 15 terrain-following depth levels at all locations. Details about boundary forcing are provided in Sane et al. (submitted 2020b).\n",
    "Three years of v0.1 prototype model data is available on ERDDAP (add link) with a subset available for exploration in the Narragansett Bay Data Explorer.  These data illustrate primarily the physical aspects of the Bay (temperature and salinity).  The biogeochemical aspects of the Bay will be included in future versions.\n",
    "\n",
    "\n",
    "## **Current Version (beta0.1)**\n",
    "Currently, the model is still being developed, the latest published version is beta0.1.\n",
    "\n",
    "## **Data**\n",
    "Surface and bottom data has been published for water temperature and salinity on the Rhode Island Data Discovery Center's (RIDDC) [ERDDAP server](https://pricaimcit.services.brown.edu/erddap/index.html). The data is available in the model's coordinate system at all locations, with an additional file available to map the model's coordinates to latitude and longitude. Additionally, a dataset has been made available which sample's the model data at the coordinates (lat/long) for which historical buoy data is available.\n",
    "\n",
    "A subset of the data is available for exploration on RIDDC's Narragansett Bay Data Explorer.\n",
    "\n",
    "\n",
    "## **OSOM Papers:**\n",
    "\n",
    "Sane et al., Submitted 2020a: http://dx.doi.org/10.1002/essoar.10504826.1<br/>\n",
    "Sane et al., Submitted 2020b: http://dx.doi.org/10.1002/essoar.10505545.1\n",
    "\n",
    "## **Other References:**\n",
    "\n",
    "Bergondo, D. (2004). Examining the processes controlling water column variability in narragansett bay: Time series data and numerical modeling (Doctoral disserta- tion, University of Rhode Island). Retrieved from https://digitalcommons.uri .edu/cgi/viewcontent.cgi?article=1781&context=dissertations<br/>\n",
    "Bergondo, D., & Kincaid, C. (2007). Development and calibration of a model for tracking dispersion of waters from Narragansett Bay Commission facilities within the Providence River and Narragansett Bay (Tech. Rep.). Narragansett Bay Commission.<br/>\n",
    "Liu, Q., Rothstein, L. M., Luo, Y., Ullman, D. S., & Codiga, D. L. (2016). Dynamics of the periphery current in Rhode Island Sound. Ocean Modelling, 105, 13–24. Retrieved from https://doi.org/10.1016/j.ocemod.2016.07.001<br/>\n",
    "McManus, M. C., Ullman, D. S., Rutherford, S. D., & Kincaid, C. (2020). Northern quahog (mercenaria mercenaria) larval transport and settlement modeled for a temperate estuary. Limnology and Oceanography, 65(2), 289–303. Retrieved from https://doi.org/10.1002/lno.11297<br/>\n",
    "Wertman, C. A. (2018). Circulation & exchange within shelf & estuarine waters driven by the atmosphere, tides and buoyancy (Doctoral dissertation, University of Rhode Island). Retrieved from https://digitalcommons.uri.edu/oa diss/719<br/>\n",
    "Ullman, D. S. (2019). Hydrodynamic modeling of Narragansett Bay in support of the EcoGEM ecological model (Tech. Rep. No. GSO No. 2019-01). Univer- sity of Rhode Island. Retrieved from https://digitalcommons.uri.edu/cgi/ viewcontent.cgi?article=1034&context=physical oceanography techrpts<br/>"
   ]
  },
  {
   "cell_type": "code",
   "execution_count": null,
   "metadata": {},
   "outputs": [],
   "source": []
  }
 ],
 "metadata": {
  "kernelspec": {
   "display_name": "Python 3",
   "language": "python",
   "name": "python3"
  },
  "language_info": {
   "codemirror_mode": {
    "name": "ipython",
    "version": 3
   },
   "file_extension": ".py",
   "mimetype": "text/x-python",
   "name": "python",
   "nbconvert_exporter": "python",
   "pygments_lexer": "ipython3",
   "version": "3.7.3"
  }
 },
 "nbformat": 4,
 "nbformat_minor": 4
}
